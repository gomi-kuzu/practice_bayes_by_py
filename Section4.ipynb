{
 "cells": [
  {
   "cell_type": "markdown",
   "id": "6f1cae95-75a4-489e-a460-8bb639ba3896",
   "metadata": {},
   "source": [
    "# 4.6\n",
    "## 4.6.2"
   ]
  },
  {
   "cell_type": "code",
   "execution_count": 1,
   "id": "a40976d6-c23a-41ce-867a-5448f9ac7845",
   "metadata": {},
   "outputs": [],
   "source": [
    "from matplotlib import pyplot as plt\n",
    "import seaborn as sns\n",
    "import pandas as pd\n",
    "from tqdm.notebook import tqdm\n",
    "\n",
    "import torch\n",
    "from torch.nn import Parameter\n",
    "from gpytorch.models import ApproximateGP\n",
    "from gpytorch.variational import CholeskyVariationalDistribution, VariationalStrategy\n",
    "from gpytorch.means import ConstantMean\n",
    "from gpytorch.kernels import ScaleKernel, RBFKernel\n",
    "from gpytorch.distributions import MultivariateNormal\n",
    "from gpytorch.likelihoods import GaussianLikelihood\n",
    "from gpytorch.priors import NormalPrior\n",
    "from gpytorch.mlls import VariationalELBO, PredictiveLogLikelihood\n",
    "\n",
    "import gpytorch"
   ]
  },
  {
   "cell_type": "code",
   "execution_count": 2,
   "id": "2ebf825b-1f26-4b2b-acb2-4b2e4a38e062",
   "metadata": {},
   "outputs": [
    {
     "name": "stdout",
     "output_type": "stream",
     "text": [
      "data shape: (437, 48)\n",
      "labels: ['1', '2', '4', '8', '16', '32 TE', '32 ICM', '64 PE', '64 TE', '64 EPI']\n"
     ]
    },
    {
     "data": {
      "text/html": [
       "<div>\n",
       "<style scoped>\n",
       "    .dataframe tbody tr th:only-of-type {\n",
       "        vertical-align: middle;\n",
       "    }\n",
       "\n",
       "    .dataframe tbody tr th {\n",
       "        vertical-align: top;\n",
       "    }\n",
       "\n",
       "    .dataframe thead th {\n",
       "        text-align: right;\n",
       "    }\n",
       "</style>\n",
       "<table border=\"1\" class=\"dataframe\">\n",
       "  <thead>\n",
       "    <tr style=\"text-align: right;\">\n",
       "      <th></th>\n",
       "      <th>Actb</th>\n",
       "      <th>Ahcy</th>\n",
       "      <th>Aqp3</th>\n",
       "      <th>Atp12a</th>\n",
       "      <th>Bmp4</th>\n",
       "      <th>Cdx2</th>\n",
       "      <th>Creb312</th>\n",
       "      <th>Cebpa</th>\n",
       "      <th>Dab2</th>\n",
       "      <th>DppaI</th>\n",
       "      <th>...</th>\n",
       "      <th>Sox2</th>\n",
       "      <th>Sall4</th>\n",
       "      <th>Sox17</th>\n",
       "      <th>Snail</th>\n",
       "      <th>Sox13</th>\n",
       "      <th>Tcfap2a</th>\n",
       "      <th>Tcfap2c</th>\n",
       "      <th>Tcf23</th>\n",
       "      <th>Utf1</th>\n",
       "      <th>Tspan8</th>\n",
       "    </tr>\n",
       "  </thead>\n",
       "  <tbody>\n",
       "    <tr>\n",
       "      <th>1</th>\n",
       "      <td>0.541050</td>\n",
       "      <td>-1.203007</td>\n",
       "      <td>1.030746</td>\n",
       "      <td>1.064808</td>\n",
       "      <td>0.494782</td>\n",
       "      <td>-0.167143</td>\n",
       "      <td>-1.369092</td>\n",
       "      <td>1.083061</td>\n",
       "      <td>0.668057</td>\n",
       "      <td>-1.553758</td>\n",
       "      <td>...</td>\n",
       "      <td>-1.351757</td>\n",
       "      <td>-1.793476</td>\n",
       "      <td>0.783185</td>\n",
       "      <td>-1.408063</td>\n",
       "      <td>-0.031991</td>\n",
       "      <td>-0.351257</td>\n",
       "      <td>-1.078982</td>\n",
       "      <td>0.942981</td>\n",
       "      <td>1.348892</td>\n",
       "      <td>-1.051999</td>\n",
       "    </tr>\n",
       "    <tr>\n",
       "      <th>1</th>\n",
       "      <td>0.680832</td>\n",
       "      <td>-1.355306</td>\n",
       "      <td>2.456375</td>\n",
       "      <td>1.234350</td>\n",
       "      <td>0.645494</td>\n",
       "      <td>1.003868</td>\n",
       "      <td>-1.207595</td>\n",
       "      <td>1.208023</td>\n",
       "      <td>0.800388</td>\n",
       "      <td>-1.435306</td>\n",
       "      <td>...</td>\n",
       "      <td>-1.363533</td>\n",
       "      <td>-1.782172</td>\n",
       "      <td>1.532477</td>\n",
       "      <td>-1.361172</td>\n",
       "      <td>-0.501715</td>\n",
       "      <td>1.082362</td>\n",
       "      <td>-0.930112</td>\n",
       "      <td>1.064399</td>\n",
       "      <td>1.469397</td>\n",
       "      <td>-0.996275</td>\n",
       "    </tr>\n",
       "    <tr>\n",
       "      <th>1</th>\n",
       "      <td>1.056038</td>\n",
       "      <td>-1.280447</td>\n",
       "      <td>2.046133</td>\n",
       "      <td>1.439795</td>\n",
       "      <td>0.828121</td>\n",
       "      <td>0.983404</td>\n",
       "      <td>-1.460032</td>\n",
       "      <td>1.359447</td>\n",
       "      <td>0.530701</td>\n",
       "      <td>-1.340283</td>\n",
       "      <td>...</td>\n",
       "      <td>-1.296802</td>\n",
       "      <td>-1.567402</td>\n",
       "      <td>3.194157</td>\n",
       "      <td>-1.301777</td>\n",
       "      <td>-0.445219</td>\n",
       "      <td>0.031284</td>\n",
       "      <td>-1.005767</td>\n",
       "      <td>1.211529</td>\n",
       "      <td>1.615421</td>\n",
       "      <td>-0.651393</td>\n",
       "    </tr>\n",
       "    <tr>\n",
       "      <th>1</th>\n",
       "      <td>0.732331</td>\n",
       "      <td>-1.326911</td>\n",
       "      <td>2.464234</td>\n",
       "      <td>1.244323</td>\n",
       "      <td>0.654359</td>\n",
       "      <td>0.947023</td>\n",
       "      <td>-1.265609</td>\n",
       "      <td>1.215373</td>\n",
       "      <td>0.765212</td>\n",
       "      <td>-1.431401</td>\n",
       "      <td>...</td>\n",
       "      <td>-1.684100</td>\n",
       "      <td>-1.915556</td>\n",
       "      <td>2.962515</td>\n",
       "      <td>-1.349710</td>\n",
       "      <td>1.875957</td>\n",
       "      <td>1.699892</td>\n",
       "      <td>-1.059458</td>\n",
       "      <td>1.071541</td>\n",
       "      <td>1.476485</td>\n",
       "      <td>-0.699586</td>\n",
       "    </tr>\n",
       "    <tr>\n",
       "      <th>1</th>\n",
       "      <td>0.629333</td>\n",
       "      <td>-1.244308</td>\n",
       "      <td>1.316815</td>\n",
       "      <td>1.304162</td>\n",
       "      <td>0.707552</td>\n",
       "      <td>1.429070</td>\n",
       "      <td>-0.895578</td>\n",
       "      <td>-0.007785</td>\n",
       "      <td>0.644606</td>\n",
       "      <td>-1.381937</td>\n",
       "      <td>...</td>\n",
       "      <td>-1.304653</td>\n",
       "      <td>-1.761825</td>\n",
       "      <td>1.265379</td>\n",
       "      <td>-1.320533</td>\n",
       "      <td>-0.609864</td>\n",
       "      <td>0.413826</td>\n",
       "      <td>-0.888624</td>\n",
       "      <td>1.114394</td>\n",
       "      <td>1.519017</td>\n",
       "      <td>-0.798985</td>\n",
       "    </tr>\n",
       "  </tbody>\n",
       "</table>\n",
       "<p>5 rows × 48 columns</p>\n",
       "</div>"
      ],
      "text/plain": [
       "       Actb      Ahcy      Aqp3    Atp12a      Bmp4      Cdx2   Creb312  \\\n",
       "1  0.541050 -1.203007  1.030746  1.064808  0.494782 -0.167143 -1.369092   \n",
       "1  0.680832 -1.355306  2.456375  1.234350  0.645494  1.003868 -1.207595   \n",
       "1  1.056038 -1.280447  2.046133  1.439795  0.828121  0.983404 -1.460032   \n",
       "1  0.732331 -1.326911  2.464234  1.244323  0.654359  0.947023 -1.265609   \n",
       "1  0.629333 -1.244308  1.316815  1.304162  0.707552  1.429070 -0.895578   \n",
       "\n",
       "      Cebpa      Dab2     DppaI  ...      Sox2     Sall4     Sox17     Snail  \\\n",
       "1  1.083061  0.668057 -1.553758  ... -1.351757 -1.793476  0.783185 -1.408063   \n",
       "1  1.208023  0.800388 -1.435306  ... -1.363533 -1.782172  1.532477 -1.361172   \n",
       "1  1.359447  0.530701 -1.340283  ... -1.296802 -1.567402  3.194157 -1.301777   \n",
       "1  1.215373  0.765212 -1.431401  ... -1.684100 -1.915556  2.962515 -1.349710   \n",
       "1 -0.007785  0.644606 -1.381937  ... -1.304653 -1.761825  1.265379 -1.320533   \n",
       "\n",
       "      Sox13   Tcfap2a   Tcfap2c     Tcf23      Utf1    Tspan8  \n",
       "1 -0.031991 -0.351257 -1.078982  0.942981  1.348892 -1.051999  \n",
       "1 -0.501715  1.082362 -0.930112  1.064399  1.469397 -0.996275  \n",
       "1 -0.445219  0.031284 -1.005767  1.211529  1.615421 -0.651393  \n",
       "1  1.875957  1.699892 -1.059458  1.071541  1.476485 -0.699586  \n",
       "1 -0.609864  0.413826 -0.888624  1.114394  1.519017 -0.798985  \n",
       "\n",
       "[5 rows x 48 columns]"
      ]
     },
     "execution_count": 2,
     "metadata": {},
     "output_type": "execute_result"
    }
   ],
   "source": [
    "URL = \"https://raw.githubusercontent.com/sods/ods/master/datasets/guo_qpcr.csv\"\n",
    "df = pd.read_csv(URL, index_col=0)\n",
    "\n",
    "print('data shape:', df.shape)\n",
    "print('labels:', df.index.unique().tolist())\n",
    "\n",
    "df.head()"
   ]
  },
  {
   "cell_type": "code",
   "execution_count": 3,
   "id": "55a1de30-1acc-4b38-845a-4e984cbd2be6",
   "metadata": {},
   "outputs": [],
   "source": [
    "K = 2\n",
    "N = df.shape[0]\n",
    "D = df.shape[1]\n",
    "\n",
    "data = torch.tensor(df.values, dtype=torch.get_default_dtype())\n",
    "\n",
    "y = data.t() #転置してDxN行列に\n",
    "\n",
    "capture_time = y.new_tensor([int(cell_name.split(' ')[0]) for cell_name in df.index.values])\n",
    "time = capture_time.log2()/6 #正規化\n",
    "X_prior_mean = torch.zeros(y.size(1), K)\n",
    "\n",
    "X_prior_mean[:, 0] = time # Xの事前分布の平均の1次元目"
   ]
  },
  {
   "cell_type": "code",
   "execution_count": 30,
   "id": "9da5acac-a858-4860-bc8d-f0a01f1f55cd",
   "metadata": {},
   "outputs": [],
   "source": [
    "class GPLVM(ApproximateGP):\n",
    "    def __init__(self, n_inducing_points, n_latent_dims, n_data_dims, n_data_points):\n",
    "        batch_shape = torch.Size([n_data_dims])\n",
    "        inducing_points = torch.randn(n_data_dims, n_inducing_points, n_latent_dims)#誘導点の初期値(D*誘導点数*Kの次元）\n",
    "        variational_distribution = CholeskyVariationalDistribution(inducing_points.size(-2), batch_shape=batch_shape,)\n",
    "        variational_strategy = VariationalStrategy(self, inducing_points, variational_distribution,learn_inducing_locations=True)\n",
    "        \n",
    "        super(GPLVM, self).__init__(variational_strategy)\n",
    "        self.mean_module = ConstantMean(batch_shape=batch_shape)\n",
    "        self.covar_module = ScaleKernel(\n",
    "            RBFKernel(nu=1.5, batch_shape=batch_shape, ard_num_dims = 2),batch_shape=batch_shape)\n",
    "        \n",
    "        self.register_parameter(name=\"X\", parameter=Parameter(X_prior_mean.clone()))#Xをパラメータとして登録、初期値はさっき上のセルで作ったX_prior_mean\n",
    "        \n",
    "        # 事前分布をモデルに登録, 適用する変数を\"param_or_closure\"で指定する\n",
    "        self.register_prior(name=\"prior_X\", prior=NormalPrior(loc=X_prior_mean, scale=torch.ones_like(X_prior_mean)),\n",
    "                            param_or_closure=\"X\")\n",
    "        \n",
    "    def forward(self, X):\n",
    "        mean_x = self.mean_module(X)\n",
    "        covar_x = self.covar_module(X)\n",
    "        dist = MultivariateNormal(mean_x, covar_x)\n",
    "        return dist\n",
    "    \n",
    "model = GPLVM(n_inducing_points=32, n_latent_dims=K, n_data_dims=D, n_data_points=N)"
   ]
  },
  {
   "cell_type": "code",
   "execution_count": 22,
   "id": "3237b1d7-53df-4e10-9f3a-692cdf87ae13",
   "metadata": {},
   "outputs": [],
   "source": [
    "likelihood = GaussianLikelihood(num_task=D, batch_shape=torch.Size([D]))"
   ]
  },
  {
   "cell_type": "code",
   "execution_count": 23,
   "id": "ed48937b-907c-48f2-880e-c6ee07d68f01",
   "metadata": {},
   "outputs": [
    {
     "data": {
      "application/vnd.jupyter.widget-view+json": {
       "model_id": "372ca5327db44503bfca7b8753ec9334",
       "version_major": 2,
       "version_minor": 0
      },
      "text/plain": [
       "  0%|          | 0/2000 [00:00<?, ?it/s]"
      ]
     },
     "metadata": {},
     "output_type": "display_data"
    },
    {
     "name": "stderr",
     "output_type": "stream",
     "text": [
      "/home/inoma/.local/share/virtualenvs/Py_bayes-Xd0WuMm8/lib/python3.8/site-packages/gpytorch/lazy/triangular_lazy_tensor.py:136: UserWarning: torch.triangular_solve is deprecated in favor of torch.linalg.solve_triangularand will be removed in a future PyTorch release.\n",
      "torch.linalg.solve_triangular has its arguments reversed and does not return a copy of one of the inputs.\n",
      "X = torch.triangular_solve(B, A).solution\n",
      "should be replaced with\n",
      "X = torch.linalg.solve_triangular(A, B). (Triggered internally at  ../aten/src/ATen/native/BatchLinearAlgebra.cpp:1672.)\n",
      "  res = torch.triangular_solve(right_tensor, self.evaluate(), upper=self.upper).solution\n"
     ]
    }
   ],
   "source": [
    "model.train()\n",
    "likelihood.train()\n",
    "\n",
    "optimizer = torch.optim.Adam([{\"params\":model.parameters()},\n",
    "                              {\"params\":likelihood.parameters()},]\n",
    "                             , lr= 0.01)\n",
    "\n",
    "mll = PredictiveLogLikelihood(likelihood, model, num_data=N)\n",
    "\n",
    "loss_list = []\n",
    "iterator = tqdm(range(2000))\n",
    "for i in iterator:\n",
    "    optimizer.zero_grad()\n",
    "    output = model(model.X)\n",
    "    loss = -mll(output, y).sum()\n",
    "    loss_list.append(loss.item())\n",
    "    iterator.set_postfix(loss=loss.item())\n",
    "    loss.backward(retain_graph = True)\n",
    "    optimizer.step()"
   ]
  },
  {
   "cell_type": "code",
   "execution_count": 24,
   "id": "c15ca958-150d-4fdf-8abf-e2bf956ba006",
   "metadata": {},
   "outputs": [
    {
     "data": {
      "text/plain": [
       "Text(0, 0.5, 'ELBO')"
      ]
     },
     "execution_count": 24,
     "metadata": {},
     "output_type": "execute_result"
    },
    {
     "data": {
      "image/png": "[encoded data removed]",
      "text/plain": [
       "<Figure size 432x288 with 1 Axes>"
      ]
     },
     "metadata": {
      "needs_background": "light"
     },
     "output_type": "display_data"
    }
   ],
   "source": [
    "plt.plot(loss_list)\n",
    "plt.xlabel(\"iter\")\n",
    "plt.ylabel(\"ELBO\")"
   ]
  },
  {
   "cell_type": "code",
   "execution_count": 29,
   "id": "6b09e847-80dd-4a73-ae15-45a81b612e74",
   "metadata": {},
   "outputs": [
    {
     "data": {
      "text/plain": [
       "<matplotlib.legend.Legend at 0x7f70105b5670>"
      ]
     },
     "execution_count": 29,
     "metadata": {},
     "output_type": "execute_result"
    },
    {
     "data": {
      "image/png": "[encoded data removed]",
      "text/plain": [
       "<Figure size 576x432 with 1 Axes>"
      ]
     },
     "metadata": {
      "needs_background": "light"
     },
     "output_type": "display_data"
    }
   ],
   "source": [
    "colors = plt.get_cmap(\"tab10\").colors[::-1]\n",
    "markers = [\"o\", \"x\", \"^\", \"v\", \"p\", \"*\", \"+\", \"d\", \".\", \"1\"]\n",
    "\n",
    "labels = df.index.unique()\n",
    "X = model.X.cpu().detach().numpy()\n",
    "\n",
    "plt.figure(figsize=(8, 6))\n",
    "for i, label in enumerate(labels):\n",
    "    X_i = X[df.index == label]\n",
    "    plt.scatter(X_i[:, 0], X_i[:, 1], color=colors[i], marker=markers[i], alpha=0.8, s =50, label=label)\n",
    "plt.legend()"
   ]
  },
  {
   "cell_type": "code",
   "execution_count": null,
   "id": "fac37072-f81a-491a-9d15-e3b83ebe43db",
   "metadata": {},
   "outputs": [],
   "source": []
  },
  {
   "cell_type": "code",
   "execution_count": null,
   "id": "cc2fc233-c399-4c15-8873-bcfa5256ddd8",
   "metadata": {},
   "outputs": [],
   "source": []
  }
 ],
 "metadata": {
  "kernelspec": {
   "display_name": "Python 3 (ipykernel)",
   "language": "python",
   "name": "python3"
  },
  "language_info": {
   "codemirror_mode": {
    "name": "ipython",
    "version": 3
   },
   "file_extension": ".py",
   "mimetype": "text/x-python",
   "name": "python",
   "nbconvert_exporter": "python",
   "pygments_lexer": "ipython3",
   "version": "3.8.10"
  }
 },
 "nbformat": 4,
 "nbformat_minor": 5
}
